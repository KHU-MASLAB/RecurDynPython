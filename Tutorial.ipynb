{
 "cells": [
  {
   "attachments": {},
   "cell_type": "markdown",
   "metadata": {},
   "source": [
    "# Setup\n",
    "Set ```rdSolverDir``` to ```\"<YOUR_RECURDYN_INSTALL_DIR>\\Bin\\Solver\\RDSolverRun.exe\"``` in ```GlobalVariables.py```."
   ]
  },
  {
   "attachments": {},
   "cell_type": "markdown",
   "metadata": {},
   "source": [
    "# Initialization\n",
    "\n",
    "Initialize with imports and global variables\n"
   ]
  },
  {
   "cell_type": "code",
   "execution_count": 1,
   "metadata": {},
   "outputs": [],
   "source": [
    "from recurdyn import *\n",
    "\n",
    "# from recurdyn import Chart\n",
    "# from recurdyn import MTT2D\n",
    "# from recurdyn import FFlex\n",
    "# from recurdyn import RFlex\n",
    "from recurdyn import Tire\n",
    "from datetime import datetime\n",
    "import numpy as np\n",
    "import re\n",
    "import os\n",
    "import glob\n",
    "import os\n",
    "import pandas as pd\n",
    "\n",
    "from utils.modeling import *\n",
    "from analysis.doe_batch import *\n",
    "from analysis.doe_gui import *\n",
    "from analysis.export_data import *\n",
    "\n",
    "app = None\n",
    "application = None\n",
    "model_document = None\n",
    "plot_document = None\n",
    "model = None\n",
    "\n",
    "ref_frame_1 = None\n",
    "ref_frame_2 = None"
   ]
  },
  {
   "attachments": {},
   "cell_type": "markdown",
   "metadata": {},
   "source": [
    "#### Define `initialize()` and `dispose()` functions.\n"
   ]
  },
  {
   "cell_type": "code",
   "execution_count": 2,
   "metadata": {},
   "outputs": [],
   "source": [
    "# initialize() should be called before ProcessNet function call.\n",
    "def initialize():\n",
    "    global app\n",
    "    global application\n",
    "    global model_document\n",
    "    global plot_document\n",
    "    global model\n",
    "\n",
    "    app = dispatch_recurdyn()\n",
    "    application = IApplication(app.RecurDynApplication)\n",
    "    model_document = application.ActiveModelDocument\n",
    "    if model_document is not None:\n",
    "        model_document = IModelDocument(model_document)\n",
    "    plot_document = application.ActivePlotDocument\n",
    "    if plot_document is not None:\n",
    "        plot_document = IPlotDocument(plot_document)\n",
    "\n",
    "    if model_document is None and plot_document is None:\n",
    "        application.PrintMessage(\"No model file\")\n",
    "        model_document = application.NewModelDocument(\"Examples\")\n",
    "    if model_document is not None:\n",
    "        model_document = IModelDocument(model_document)\n",
    "        model = ISubSystem(model_document.Model)\n",
    "\n",
    "    return application, model_document, plot_document, model\n",
    "\n",
    "\n",
    "# dispose() should be called after ProcessNet function call.\n",
    "\n",
    "\n",
    "def dispose():\n",
    "    global application\n",
    "    global model_document\n",
    "\n",
    "    model_document = application.ActiveModelDocument\n",
    "    if model_document is not None:\n",
    "        model_document = IModelDocument(model_document)\n",
    "    else:\n",
    "        return\n",
    "\n",
    "    if not model_document.Validate():\n",
    "        return\n",
    "    # Redraw() and UpdateDatabaseWindow() can take more time in a heavy model.\n",
    "    # model_document.Redraw()\n",
    "    # model_document.PostProcess() # UpdateDatabaseWindow(), SetModified()\n",
    "    # model_document.UpdateDatabaseWindow()\n",
    "    # If you call SetModified(), Animation will be reset.\n",
    "    # model_document.SetModified()\n",
    "    model_document.SetUndoHistory(\"Python ProcessNet\")"
   ]
  },
  {
   "attachments": {},
   "cell_type": "markdown",
   "metadata": {},
   "source": [
    "# Simulate using GUI solver\n",
    "\n",
    "Call `analysis.doe_gui.RunDOE_GUI` with arguments.  \n",
    "**You can modify DOE scenario by editing line 55~65 in `analysis/doe_gui.py`**  \n",
    "This method is **_not parallelizable_**.\n",
    "\n",
    "#### Arguments\n",
    "\n",
    "- `ModelFileDir: str` Absolute path of model file (\\*.rdyn).\n",
    "- `TopFolderName: str` Folder name to create.\n",
    "- `NumCPUCores: int` Number of CPU threads to use per simulation. Must be one of `[0,1,2,4,8,16]`\n",
    "- `EndTime: float` Simulation end time.\n",
    "- `NumSteps: int` Number of time steps.\n"
   ]
  },
  {
   "cell_type": "code",
   "execution_count": 3,
   "metadata": {},
   "outputs": [
    {
     "name": "stdout",
     "output_type": "stream",
     "text": [
      "RecurDyn V9R5 is not running.\n",
      "Run RecurDyn\n",
      "Analysis finished within 19.51sec.\n"
     ]
    }
   ],
   "source": [
    "RunDOE_GUI(\n",
    "    ModelFileDir=f\"{os.getcwd()}/SampleModel.rdyn\",\n",
    "    TopFolderName=\"TestDOE_GUI\",\n",
    "    NumCPUCores=8,\n",
    "    EndTime=1,\n",
    "    NumSteps=100,\n",
    ")"
   ]
  },
  {
   "attachments": {},
   "cell_type": "markdown",
   "metadata": {},
   "source": [
    "#### Export data from results using `analysis.export_data.rplt2csv`\n",
    "Exported variables are defined in ```GlobalVariables.GlobVar.DataExportTargets```."
   ]
  },
  {
   "cell_type": "code",
   "execution_count": 4,
   "metadata": {},
   "outputs": [
    {
     "name": "stdout",
     "output_type": "stream",
     "text": [
      "Data exported(1/10) d:\\GitHub\\ProcessNetPython-hb/TestDOE_GUI\\TestDOE_GUI_0001.csv \n",
      "Data exported(2/10) d:\\GitHub\\ProcessNetPython-hb/TestDOE_GUI\\TestDOE_GUI_0002.csv \n",
      "Data exported(3/10) d:\\GitHub\\ProcessNetPython-hb/TestDOE_GUI\\TestDOE_GUI_0003.csv \n",
      "Data exported(4/10) d:\\GitHub\\ProcessNetPython-hb/TestDOE_GUI\\TestDOE_GUI_0004.csv \n",
      "Data exported(5/10) d:\\GitHub\\ProcessNetPython-hb/TestDOE_GUI\\TestDOE_GUI_0005.csv \n",
      "Data exported(6/10) d:\\GitHub\\ProcessNetPython-hb/TestDOE_GUI\\TestDOE_GUI_0006.csv \n",
      "Data exported(7/10) d:\\GitHub\\ProcessNetPython-hb/TestDOE_GUI\\TestDOE_GUI_0007.csv \n",
      "Data exported(8/10) d:\\GitHub\\ProcessNetPython-hb/TestDOE_GUI\\TestDOE_GUI_0008.csv \n",
      "Data exported(9/10) d:\\GitHub\\ProcessNetPython-hb/TestDOE_GUI\\TestDOE_GUI_0009.csv \n",
      "Data exported(10/10) d:\\GitHub\\ProcessNetPython-hb/TestDOE_GUI\\TestDOE_GUI_0010.csv \n",
      "Export finished within 8.86sec.\n"
     ]
    }
   ],
   "source": [
    "rplt2csv(f\"{os.getcwd()}/TestDOE_GUI\")"
   ]
  },
  {
   "attachments": {},
   "cell_type": "markdown",
   "metadata": {},
   "source": [
    "# Simulate using batch solver\n",
    "\n",
    "Call `analysis.doe_batch.RunDOE_Batch` with arguments.  \n",
    "**You can control DOE scenario by editing line 59~67 in `analysis/doe_batch.py`**  \n",
    "This method is **_parallelizable_**, but requires corresponding number of licenses.\n",
    "\n",
    "#### Arguments\n",
    "\n",
    "- `ModelFileDir: str` Absolute path of model file (\\*.rdyn).\n",
    "- `TopFolderName: str` Folder name to create.\n",
    "- `NumCPUCores: int` Number of CPU threads to use per simulation. Must be one of `[0,1,2,4,8,16]`\n",
    "- `EndTime: float` Simulation end time.\n",
    "- `NumSteps: int` Number of time steps.\n",
    "- `NumParallelBatches: int` Number of parallelized simulations (\\*.bat) to create.\n",
    "- `NumBatRunsOnThisPC: int` Number of simulations to run on your current machine. Defaults to `NumParallelBatches`. Range should be within `0`~`NumParallelBatches`.\n"
   ]
  },
  {
   "cell_type": "code",
   "execution_count": 5,
   "metadata": {},
   "outputs": [
    {
     "name": "stdout",
     "output_type": "stream",
     "text": [
      "d:\\GitHub\\ProcessNetPython-hb\\TestDOE_Batch\\TestDOE_Batch_0001\n",
      "d:\\GitHub\\ProcessNetPython-hb\\TestDOE_Batch\\TestDOE_Batch_0002\n",
      "d:\\GitHub\\ProcessNetPython-hb\\TestDOE_Batch\\TestDOE_Batch_0003\n",
      "d:\\GitHub\\ProcessNetPython-hb\\TestDOE_Batch\\TestDOE_Batch_0004\n",
      "d:\\GitHub\\ProcessNetPython-hb\\TestDOE_Batch\\TestDOE_Batch_0005\n",
      "d:\\GitHub\\ProcessNetPython-hb\\TestDOE_Batch\\TestDOE_Batch_0006\n",
      "d:\\GitHub\\ProcessNetPython-hb\\TestDOE_Batch\\TestDOE_Batch_0007\n",
      "d:\\GitHub\\ProcessNetPython-hb\\TestDOE_Batch\\TestDOE_Batch_0008\n",
      "d:\\GitHub\\ProcessNetPython-hb\\TestDOE_Batch\\TestDOE_Batch_0009\n",
      "d:\\GitHub\\ProcessNetPython-hb\\TestDOE_Batch\\TestDOE_Batch_0010\n",
      "Created batch executable d:\\GitHub\\ProcessNetPython-hb\\TestDOE_Batch\\TestDOE_Batch_1.bat\n",
      "Created batch executable d:\\GitHub\\ProcessNetPython-hb\\TestDOE_Batch\\TestDOE_Batch_2.bat\n",
      "Created batch executable d:\\GitHub\\ProcessNetPython-hb\\TestDOE_Batch\\TestDOE_Batch_3.bat\n",
      "Created batch executable d:\\GitHub\\ProcessNetPython-hb\\TestDOE_Batch\\TestDOE_Batch_4.bat\n",
      "Created batch executable d:\\GitHub\\ProcessNetPython-hb\\TestDOE_Batch\\TestDOE_Batch_5.bat\n",
      "Analysis finished within 6.03sec.\n"
     ]
    }
   ],
   "source": [
    "RunDOE_Batch(\n",
    "    ModelFileDir=\"SampleModel.rdyn\",\n",
    "    TopFolderName=\"TestDOE_Batch\",\n",
    "    NumCPUCores=8,\n",
    "    EndTime=1,\n",
    "    NumSteps=100,\n",
    "    NumParallelBatches=5,\n",
    ")"
   ]
  },
  {
   "attachments": {},
   "cell_type": "markdown",
   "metadata": {},
   "source": [
    "#### Export data from results using `analysis.export_data.rplt2csv`\n",
    "Exported variables are defined in ```GlobalVariables.GlobVar.DataExportTargets```."
   ]
  },
  {
   "cell_type": "code",
   "execution_count": 6,
   "metadata": {},
   "outputs": [
    {
     "name": "stdout",
     "output_type": "stream",
     "text": [
      "Data exported(1/10) d:\\GitHub\\ProcessNetPython-hb/TestDOE_Batch\\TestDOE_Batch_0001.csv \n",
      "Data exported(2/10) d:\\GitHub\\ProcessNetPython-hb/TestDOE_Batch\\TestDOE_Batch_0002.csv \n",
      "Data exported(3/10) d:\\GitHub\\ProcessNetPython-hb/TestDOE_Batch\\TestDOE_Batch_0003.csv \n",
      "Data exported(4/10) d:\\GitHub\\ProcessNetPython-hb/TestDOE_Batch\\TestDOE_Batch_0004.csv \n",
      "Data exported(5/10) d:\\GitHub\\ProcessNetPython-hb/TestDOE_Batch\\TestDOE_Batch_0005.csv \n",
      "Data exported(6/10) d:\\GitHub\\ProcessNetPython-hb/TestDOE_Batch\\TestDOE_Batch_0006.csv \n",
      "Data exported(7/10) d:\\GitHub\\ProcessNetPython-hb/TestDOE_Batch\\TestDOE_Batch_0007.csv \n",
      "Data exported(8/10) d:\\GitHub\\ProcessNetPython-hb/TestDOE_Batch\\TestDOE_Batch_0008.csv \n",
      "Data exported(9/10) d:\\GitHub\\ProcessNetPython-hb/TestDOE_Batch\\TestDOE_Batch_0009.csv \n",
      "Data exported(10/10) d:\\GitHub\\ProcessNetPython-hb/TestDOE_Batch\\TestDOE_Batch_0010.csv \n",
      "Export finished within 9.32sec.\n"
     ]
    }
   ],
   "source": [
    "rplt2csv(f\"{os.getcwd()}/TestDOE_Batch\")"
   ]
  }
 ],
 "metadata": {
  "kernelspec": {
   "display_name": "recurdyn",
   "language": "python",
   "name": "python3"
  },
  "language_info": {
   "codemirror_mode": {
    "name": "ipython",
    "version": 3
   },
   "file_extension": ".py",
   "mimetype": "text/x-python",
   "name": "python",
   "nbconvert_exporter": "python",
   "pygments_lexer": "ipython3",
   "version": "3.10.10"
  },
  "orig_nbformat": 4
 },
 "nbformat": 4,
 "nbformat_minor": 2
}
